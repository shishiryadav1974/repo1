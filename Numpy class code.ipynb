{
 "cells": [
  {
   "cell_type": "markdown",
   "id": "4fdc2a07-d3aa-43ea-9cf9-9af0670533d4",
   "metadata": {},
   "source": [
    "## Data analytics--library\n",
    "**NUMPY---linear algebra,n-dimesional powerful array create by \n",
    "adding the small subset of array.**"
   ]
  },
  {
   "cell_type": "code",
   "execution_count": 3,
   "id": "5fc77e43-da13-4b56-bc84-5284d16f92b0",
   "metadata": {},
   "outputs": [],
   "source": [
    "## array--homogenous datatype\n",
    "# pip install pandas\n",
    "import numpy as np"
   ]
  },
  {
   "cell_type": "code",
   "execution_count": 145,
   "id": "4a1ae53a-f734-40b6-99e2-562b07534896",
   "metadata": {},
   "outputs": [
    {
     "data": {
      "text/plain": [
       "[1, 2, 3, 4, 5, 15, 2.56]"
      ]
     },
     "execution_count": 145,
     "metadata": {},
     "output_type": "execute_result"
    }
   ],
   "source": [
    "x=[1,2,3,4,5,15,2.56]\n",
    "type(x)\n",
    "x"
   ]
  },
  {
   "cell_type": "code",
   "execution_count": 23,
   "id": "625cba42-0df1-4155-828d-669e54fe5f8f",
   "metadata": {},
   "outputs": [
    {
     "data": {
      "text/plain": [
       "[1, 2, 3, 4, 5, 15, 2.56, 12, [12, 15]]"
      ]
     },
     "execution_count": 23,
     "metadata": {},
     "output_type": "execute_result"
    }
   ],
   "source": [
    "x.append([12,15])\n",
    "x"
   ]
  },
  {
   "cell_type": "code",
   "execution_count": 147,
   "id": "cc309757-f5c0-4afd-9dea-31913e187b56",
   "metadata": {},
   "outputs": [
    {
     "data": {
      "text/plain": [
       "array([ 1.  ,  2.  ,  3.  ,  4.  ,  5.  , 15.  ,  2.56])"
      ]
     },
     "execution_count": 147,
     "metadata": {},
     "output_type": "execute_result"
    }
   ],
   "source": [
    "y=np.array(x)\n",
    "y"
   ]
  },
  {
   "cell_type": "code",
   "execution_count": 35,
   "id": "ddd8f38d-6a94-4598-afab-14abac3d2b51",
   "metadata": {},
   "outputs": [
    {
     "data": {
      "text/plain": [
       "array(['12', '2.5', 'kiwi', 'True'], dtype='<U32')"
      ]
     },
     "execution_count": 35,
     "metadata": {},
     "output_type": "execute_result"
    }
   ],
   "source": [
    "x=np.array((12,2.5,\"kiwi\",True))\n",
    "x.ndim\n",
    "x"
   ]
  },
  {
   "cell_type": "code",
   "execution_count": 157,
   "id": "6a47e613-854d-4b85-a99e-2c1bc7c175cc",
   "metadata": {},
   "outputs": [
    {
     "data": {
      "text/plain": [
       "array([185.24,   4.33])"
      ]
     },
     "execution_count": 157,
     "metadata": {},
     "output_type": "execute_result"
    }
   ],
   "source": [
    "weight=np.array([54.25,45.63,85.36])\n",
    "height=np.array([1.63,1.25,1.45])\n",
    "weight\n",
    "np.concatenate([weight,height])\n",
    "np.sum([weight,height],axis=1)"
   ]
  },
  {
   "cell_type": "markdown",
   "id": "78239444-55f3-435e-8fb0-9b08f42c8b5f",
   "metadata": {},
   "source": [
    "## array methods---"
   ]
  },
  {
   "cell_type": "code",
   "execution_count": 163,
   "id": "16a5896b-01a2-410c-a29b-65607d44c96a",
   "metadata": {},
   "outputs": [
    {
     "data": {
      "text/plain": [
       "numpy.ndarray"
      ]
     },
     "execution_count": 163,
     "metadata": {},
     "output_type": "execute_result"
    }
   ],
   "source": [
    "weight=np.array([54.25,45.63,85.36,85])\n",
    "# shape\n",
    "weight.shape\n",
    "type(weight)"
   ]
  },
  {
   "cell_type": "code",
   "execution_count": 161,
   "id": "fb130c6e-e092-4867-b369-09fcde533f2e",
   "metadata": {},
   "outputs": [
    {
     "data": {
      "text/plain": [
       "4"
      ]
     },
     "execution_count": 161,
     "metadata": {},
     "output_type": "execute_result"
    }
   ],
   "source": [
    "weight.size"
   ]
  },
  {
   "cell_type": "code",
   "execution_count": 165,
   "id": "5ff9ae60-ec37-4510-84bc-8576aeaca228",
   "metadata": {},
   "outputs": [
    {
     "data": {
      "text/plain": [
       "dtype('float64')"
      ]
     },
     "execution_count": 165,
     "metadata": {},
     "output_type": "execute_result"
    }
   ],
   "source": [
    "weight.dtype"
   ]
  },
  {
   "cell_type": "code",
   "execution_count": 80,
   "id": "25a9fc20-89a3-4061-8da0-3012baf77cdf",
   "metadata": {},
   "outputs": [
    {
     "data": {
      "text/plain": [
       "8"
      ]
     },
     "execution_count": 80,
     "metadata": {},
     "output_type": "execute_result"
    }
   ],
   "source": [
    "weight.itemsize"
   ]
  },
  {
   "cell_type": "markdown",
   "id": "117c2e47-1053-4840-a804-8bf1cd149f75",
   "metadata": {},
   "source": [
    "## creating a array by using inbuilt function\n"
   ]
  },
  {
   "cell_type": "code",
   "execution_count": 179,
   "id": "edd4673a-59c0-4c2c-99be-4f4f7d4d24dc",
   "metadata": {},
   "outputs": [
    {
     "data": {
      "text/plain": [
       "(10, 4)"
      ]
     },
     "execution_count": 179,
     "metadata": {},
     "output_type": "execute_result"
    }
   ],
   "source": [
    "x=np.arange(10,50).reshape(10,4)\n",
    "x.ndim\n",
    "x.shape"
   ]
  },
  {
   "cell_type": "code",
   "execution_count": 123,
   "id": "257cc3c6-f13b-45c2-8642-0e25f5c2f205",
   "metadata": {},
   "outputs": [
    {
     "data": {
      "text/plain": [
       "array([[0.38782408, 0.78806488, 0.31217087, 0.0308432 , 0.59917464],\n",
       "       [0.59782523, 0.06347477, 0.00651559, 0.08517335, 0.77253781],\n",
       "       [0.50377467, 0.95131949, 0.41963387, 0.96401362, 0.34829605],\n",
       "       [0.25415531, 0.60677056, 0.98890401, 0.91889131, 0.17345945]])"
      ]
     },
     "execution_count": 123,
     "metadata": {},
     "output_type": "execute_result"
    }
   ],
   "source": [
    "## random function--random value but half open interval-(0.0,1.0)\n",
    "\n",
    "np.random.random((4,5))"
   ]
  },
  {
   "cell_type": "code",
   "execution_count": 187,
   "id": "8ee19be6-e0ed-4cfc-b527-50ff2b0db71d",
   "metadata": {},
   "outputs": [
    {
     "data": {
      "text/plain": [
       "array([[51, 23, 28, 45],\n",
       "       [57, 26, 47, 20],\n",
       "       [31, 27, 45, 51],\n",
       "       [37, 39, 51, 57],\n",
       "       [57, 46, 57, 51],\n",
       "       [34, 43, 34, 33],\n",
       "       [57, 28, 50, 58],\n",
       "       [42, 50, 38, 44],\n",
       "       [35, 29, 26, 30],\n",
       "       [35, 40, 39, 24],\n",
       "       [38, 44, 52, 56],\n",
       "       [50, 21, 51, 43],\n",
       "       [56, 32, 30, 30],\n",
       "       [48, 51, 52, 45],\n",
       "       [49, 44, 36, 53],\n",
       "       [30, 32, 23, 48],\n",
       "       [34, 21, 44, 24],\n",
       "       [38, 33, 22, 55],\n",
       "       [34, 45, 25, 23],\n",
       "       [22, 42, 41, 39],\n",
       "       [26, 35, 42, 36],\n",
       "       [36, 28, 36, 24],\n",
       "       [48, 50, 46, 40],\n",
       "       [29, 38, 43, 27],\n",
       "       [56, 45, 41, 41],\n",
       "       [31, 48, 46, 31],\n",
       "       [23, 43, 39, 45],\n",
       "       [48, 51, 30, 42],\n",
       "       [44, 55, 26, 22],\n",
       "       [43, 43, 25, 22],\n",
       "       [44, 59, 49, 46],\n",
       "       [55, 23, 35, 27],\n",
       "       [43, 59, 37, 30],\n",
       "       [53, 44, 52, 52],\n",
       "       [42, 23, 29, 25],\n",
       "       [20, 48, 35, 26],\n",
       "       [49, 24, 36, 44],\n",
       "       [51, 23, 56, 43],\n",
       "       [31, 56, 35, 21],\n",
       "       [59, 45, 50, 58],\n",
       "       [58, 51, 50, 59],\n",
       "       [35, 35, 23, 25],\n",
       "       [47, 38, 55, 42],\n",
       "       [38, 42, 46, 50],\n",
       "       [27, 31, 34, 26],\n",
       "       [58, 58, 38, 32],\n",
       "       [37, 42, 35, 44],\n",
       "       [47, 47, 47, 34],\n",
       "       [55, 40, 55, 29],\n",
       "       [25, 30, 49, 55]])"
      ]
     },
     "execution_count": 187,
     "metadata": {},
     "output_type": "execute_result"
    }
   ],
   "source": [
    "x=np.random.randint(20,60,(50,4))\n",
    "x"
   ]
  },
  {
   "cell_type": "code",
   "execution_count": 201,
   "id": "4fae5d06-933a-4809-8330-47a825e03f53",
   "metadata": {},
   "outputs": [
    {
     "data": {
      "text/plain": [
       "array([-2.15574397, -0.26506831,  0.53773119, -0.28244582, -0.8489615 ,\n",
       "       -0.43793007,  1.39700723, -0.01524762, -2.28710781,  0.16569793,\n",
       "        0.40652616, -0.5254125 , -0.93937208,  0.11077435, -0.45960685,\n",
       "       -0.96137489, -1.02208103, -0.29651275, -0.56027959,  0.53314553])"
      ]
     },
     "execution_count": 201,
     "metadata": {},
     "output_type": "execute_result"
    }
   ],
   "source": [
    "np.random.randn(20)"
   ]
  },
  {
   "cell_type": "code",
   "execution_count": 70,
   "id": "daff3675-74fa-42ec-a959-a01184c3c74c",
   "metadata": {},
   "outputs": [
    {
     "data": {
      "text/html": [
       "<div>\n",
       "<style scoped>\n",
       "    .dataframe tbody tr th:only-of-type {\n",
       "        vertical-align: middle;\n",
       "    }\n",
       "\n",
       "    .dataframe tbody tr th {\n",
       "        vertical-align: top;\n",
       "    }\n",
       "\n",
       "    .dataframe thead th {\n",
       "        text-align: right;\n",
       "    }\n",
       "</style>\n",
       "<table border=\"1\" class=\"dataframe\">\n",
       "  <thead>\n",
       "    <tr style=\"text-align: right;\">\n",
       "      <th></th>\n",
       "      <th>sepal_length</th>\n",
       "      <th>sepal_width</th>\n",
       "      <th>petal_length</th>\n",
       "      <th>petal_width</th>\n",
       "      <th>species</th>\n",
       "    </tr>\n",
       "  </thead>\n",
       "  <tbody>\n",
       "    <tr>\n",
       "      <th>0</th>\n",
       "      <td>5.1</td>\n",
       "      <td>3.5</td>\n",
       "      <td>1.4</td>\n",
       "      <td>0.2</td>\n",
       "      <td>setosa</td>\n",
       "    </tr>\n",
       "    <tr>\n",
       "      <th>1</th>\n",
       "      <td>4.9</td>\n",
       "      <td>3.0</td>\n",
       "      <td>1.4</td>\n",
       "      <td>0.2</td>\n",
       "      <td>setosa</td>\n",
       "    </tr>\n",
       "    <tr>\n",
       "      <th>2</th>\n",
       "      <td>4.7</td>\n",
       "      <td>3.2</td>\n",
       "      <td>1.3</td>\n",
       "      <td>0.2</td>\n",
       "      <td>setosa</td>\n",
       "    </tr>\n",
       "    <tr>\n",
       "      <th>3</th>\n",
       "      <td>4.6</td>\n",
       "      <td>3.1</td>\n",
       "      <td>1.5</td>\n",
       "      <td>0.2</td>\n",
       "      <td>setosa</td>\n",
       "    </tr>\n",
       "    <tr>\n",
       "      <th>4</th>\n",
       "      <td>5.0</td>\n",
       "      <td>3.6</td>\n",
       "      <td>1.4</td>\n",
       "      <td>0.2</td>\n",
       "      <td>setosa</td>\n",
       "    </tr>\n",
       "    <tr>\n",
       "      <th>...</th>\n",
       "      <td>...</td>\n",
       "      <td>...</td>\n",
       "      <td>...</td>\n",
       "      <td>...</td>\n",
       "      <td>...</td>\n",
       "    </tr>\n",
       "    <tr>\n",
       "      <th>145</th>\n",
       "      <td>6.7</td>\n",
       "      <td>3.0</td>\n",
       "      <td>5.2</td>\n",
       "      <td>2.3</td>\n",
       "      <td>virginica</td>\n",
       "    </tr>\n",
       "    <tr>\n",
       "      <th>146</th>\n",
       "      <td>6.3</td>\n",
       "      <td>2.5</td>\n",
       "      <td>5.0</td>\n",
       "      <td>1.9</td>\n",
       "      <td>virginica</td>\n",
       "    </tr>\n",
       "    <tr>\n",
       "      <th>147</th>\n",
       "      <td>6.5</td>\n",
       "      <td>3.0</td>\n",
       "      <td>5.2</td>\n",
       "      <td>2.0</td>\n",
       "      <td>virginica</td>\n",
       "    </tr>\n",
       "    <tr>\n",
       "      <th>148</th>\n",
       "      <td>6.2</td>\n",
       "      <td>3.4</td>\n",
       "      <td>5.4</td>\n",
       "      <td>2.3</td>\n",
       "      <td>virginica</td>\n",
       "    </tr>\n",
       "    <tr>\n",
       "      <th>149</th>\n",
       "      <td>5.9</td>\n",
       "      <td>3.0</td>\n",
       "      <td>5.1</td>\n",
       "      <td>1.8</td>\n",
       "      <td>virginica</td>\n",
       "    </tr>\n",
       "  </tbody>\n",
       "</table>\n",
       "<p>150 rows × 5 columns</p>\n",
       "</div>"
      ],
      "text/plain": [
       "     sepal_length  sepal_width  petal_length  petal_width    species\n",
       "0             5.1          3.5           1.4          0.2     setosa\n",
       "1             4.9          3.0           1.4          0.2     setosa\n",
       "2             4.7          3.2           1.3          0.2     setosa\n",
       "3             4.6          3.1           1.5          0.2     setosa\n",
       "4             5.0          3.6           1.4          0.2     setosa\n",
       "..            ...          ...           ...          ...        ...\n",
       "145           6.7          3.0           5.2          2.3  virginica\n",
       "146           6.3          2.5           5.0          1.9  virginica\n",
       "147           6.5          3.0           5.2          2.0  virginica\n",
       "148           6.2          3.4           5.4          2.3  virginica\n",
       "149           5.9          3.0           5.1          1.8  virginica\n",
       "\n",
       "[150 rows x 5 columns]"
      ]
     },
     "execution_count": 70,
     "metadata": {},
     "output_type": "execute_result"
    }
   ],
   "source": [
    "import seaborn as sns\n",
    "x=sns.load_dataset('iris')\n",
    "x"
   ]
  },
  {
   "cell_type": "markdown",
   "id": "7d780c35-4cfd-43bf-98c8-f98b819c885c",
   "metadata": {},
   "source": [
    "## list and array\n",
    "1.array takes homogenous element and list take heterogenous element.\n",
    "2. list take 1 dimensional data but array can take n_dimensional\n",
    "3.list can take extra memory as compared to array \n",
    "4.list can take more time as compared to array\n",
    "5.The size of the array is fixed where as The size of the lists is variable"
   ]
  },
  {
   "cell_type": "code",
   "execution_count": 205,
   "id": "66b7930c-a7b5-4b62-b215-e47314812f52",
   "metadata": {},
   "outputs": [
    {
     "name": "stdout",
     "output_type": "stream",
     "text": [
      "29\n",
      "57.25\n",
      "79\n",
      "19\n",
      "6\n",
      "29\n"
     ]
    }
   ],
   "source": [
    "x=[25,53.25,75,15,2,25]\n",
    "for i in x:\n",
    "    print(i+4)"
   ]
  },
  {
   "cell_type": "code",
   "execution_count": 209,
   "id": "7ab0ce32-3dd0-496f-9d96-8486d1f045bb",
   "metadata": {},
   "outputs": [
    {
     "data": {
      "text/plain": [
       "array([29.  , 57.25, 79.  , 19.  ,  6.  , 29.  ])"
      ]
     },
     "execution_count": 209,
     "metadata": {},
     "output_type": "execute_result"
    }
   ],
   "source": [
    "y=np.array(x)\n",
    "y+4"
   ]
  },
  {
   "cell_type": "code",
   "execution_count": 219,
   "id": "8b36b848-d53f-4fbc-b139-3b11d88406dd",
   "metadata": {},
   "outputs": [],
   "source": [
    "lst=range(1,100000)\n",
    "array=np.arange(1,1000000)"
   ]
  },
  {
   "cell_type": "code",
   "execution_count": 221,
   "id": "44f300d2-5fc3-48b1-9e5c-b1eeef9a969c",
   "metadata": {},
   "outputs": [
    {
     "data": {
      "text/plain": [
       "0.00799703598022461"
      ]
     },
     "execution_count": 221,
     "metadata": {},
     "output_type": "execute_result"
    }
   ],
   "source": [
    "# list execution time\n",
    "import time \n",
    "start_time=time.time()\n",
    "lst=[i+4 for i in lst]\n",
    "end_time=time.time()\n",
    "exectiun_time=end_time-start_time\n",
    "exectiun_time"
   ]
  },
  {
   "cell_type": "code",
   "execution_count": 223,
   "id": "28750c74-b25c-47b3-8566-52deadd98af5",
   "metadata": {},
   "outputs": [
    {
     "data": {
      "text/plain": [
       "0.003997802734375"
      ]
     },
     "execution_count": 223,
     "metadata": {},
     "output_type": "execute_result"
    }
   ],
   "source": [
    "# array execution time\n",
    "import time \n",
    "start_time=time.time()\n",
    "array=array+4\n",
    "end_time=time.time()\n",
    "exectiun_time=end_time-start_time\n",
    "exectiun_time"
   ]
  },
  {
   "cell_type": "code",
   "execution_count": 236,
   "id": "2d48aafc-16bc-408d-89d0-1512de229639",
   "metadata": {},
   "outputs": [
    {
     "ename": "ValueError",
     "evalue": "all the input arrays must have same number of dimensions, but the array at index 0 has 1 dimension(s) and the array at index 1 has 2 dimension(s)",
     "output_type": "error",
     "traceback": [
      "\u001b[1;31m---------------------------------------------------------------------------\u001b[0m",
      "\u001b[1;31mValueError\u001b[0m                                Traceback (most recent call last)",
      "Cell \u001b[1;32mIn[236], line 3\u001b[0m\n\u001b[0;32m      1\u001b[0m weight\u001b[38;5;241m=\u001b[39mnp\u001b[38;5;241m.\u001b[39marray([\u001b[38;5;241m54.25\u001b[39m,\u001b[38;5;241m45.63\u001b[39m,\u001b[38;5;241m85.36\u001b[39m])\n\u001b[0;32m      2\u001b[0m height\u001b[38;5;241m=\u001b[39mnp\u001b[38;5;241m.\u001b[39marray([[\u001b[38;5;241m1.63\u001b[39m,\u001b[38;5;241m1.25\u001b[39m,\u001b[38;5;241m1.45\u001b[39m]])\n\u001b[1;32m----> 3\u001b[0m np\u001b[38;5;241m.\u001b[39mconcatenate([weight,height])\n\u001b[0;32m      4\u001b[0m np\u001b[38;5;241m.\u001b[39mpower([weight,height],\u001b[38;5;241m2\u001b[39m)\n",
      "\u001b[1;31mValueError\u001b[0m: all the input arrays must have same number of dimensions, but the array at index 0 has 1 dimension(s) and the array at index 1 has 2 dimension(s)"
     ]
    }
   ],
   "source": [
    "weight=np.array([54.25,45.63,85.36])\n",
    "height=np.array([[1.63,1.25,1.45]])\n",
    "np.concatenate([weight,height])\n",
    "np.power([weight,height],2)"
   ]
  },
  {
   "cell_type": "markdown",
   "id": "257b2cd6-e52d-47f1-a99c-6c6cf278c230",
   "metadata": {},
   "source": [
    "# slicing and indexing"
   ]
  },
  {
   "cell_type": "code",
   "execution_count": 247,
   "id": "6512e8ee-8c7e-4f7b-a547-c9c5c09ea8b2",
   "metadata": {},
   "outputs": [
    {
     "data": {
      "text/plain": [
       "[7, 12, 25, 36, 19]"
      ]
     },
     "execution_count": 247,
     "metadata": {},
     "output_type": "execute_result"
    }
   ],
   "source": [
    "x=[25,45,36,7,12,25,36,19]\n",
    "x[3:]"
   ]
  },
  {
   "cell_type": "code",
   "execution_count": 251,
   "id": "d2c1f35d-73d1-43ff-839e-ff8da050c422",
   "metadata": {},
   "outputs": [
    {
     "data": {
      "text/plain": [
       "array([[ 1,  2,  3,  4],\n",
       "       [ 5,  6,  7,  8],\n",
       "       [ 9, 10, 11, 12],\n",
       "       [13, 14, 15, 16],\n",
       "       [17, 18, 19, 20]])"
      ]
     },
     "execution_count": 251,
     "metadata": {},
     "output_type": "execute_result"
    }
   ],
   "source": [
    "x=np.arange(1,21).reshape(5,4)\n",
    "x"
   ]
  },
  {
   "cell_type": "code",
   "execution_count": 255,
   "id": "573cb795-d022-4163-a8c2-ac9fe3ad7baf",
   "metadata": {},
   "outputs": [
    {
     "data": {
      "text/plain": [
       "array([10, 11])"
      ]
     },
     "execution_count": 255,
     "metadata": {},
     "output_type": "execute_result"
    }
   ],
   "source": [
    "x[2,1:3]"
   ]
  },
  {
   "cell_type": "code",
   "execution_count": 257,
   "id": "c3590cb9-bd15-4e2b-8d8a-780c44b2e06f",
   "metadata": {},
   "outputs": [
    {
     "data": {
      "text/plain": [
       "20"
      ]
     },
     "execution_count": 257,
     "metadata": {},
     "output_type": "execute_result"
    }
   ],
   "source": [
    "x[4,3]"
   ]
  },
  {
   "cell_type": "code",
   "execution_count": 299,
   "id": "1fcc918d-9d27-4fba-815b-867004c3e88a",
   "metadata": {},
   "outputs": [
    {
     "data": {
      "text/plain": [
       "(3,)"
      ]
     },
     "execution_count": 299,
     "metadata": {},
     "output_type": "execute_result"
    }
   ],
   "source": [
    "x[-4:-1,3].shape"
   ]
  },
  {
   "cell_type": "code",
   "execution_count": 5,
   "id": "00b27212-1356-44c1-b1c2-f40aa55a8dbf",
   "metadata": {},
   "outputs": [],
   "source": [
    "# AIRTHMATIC OPERATORS\n",
    "x=np.arange(10,30).reshape(5,4)\n",
    "y=np.arange(1,21).reshape(5,4)\n",
    "np.save(\"my_array.npy\",x)"
   ]
  },
  {
   "cell_type": "code",
   "execution_count": 323,
   "id": "6f434297-eb3f-4b61-af0e-d1fc1d6932c3",
   "metadata": {},
   "outputs": [
    {
     "data": {
      "text/plain": [
       "-11"
      ]
     },
     "execution_count": 323,
     "metadata": {},
     "output_type": "execute_result"
    }
   ],
   "source": [
    "x[0][3]-x[3][2]"
   ]
  },
  {
   "cell_type": "code",
   "execution_count": 337,
   "id": "8d5796ab-8ebb-46b4-961d-b44bfad89582",
   "metadata": {},
   "outputs": [
    {
     "data": {
      "text/plain": [
       "array([[ 6,  7,  8,  9],\n",
       "       [14, 15, 16, 17],\n",
       "       [18, 19, 20, 21],\n",
       "       [22, 23, 24, 25],\n",
       "       [26, 27, 28, 29]])"
      ]
     },
     "execution_count": 337,
     "metadata": {},
     "output_type": "execute_result"
    }
   ],
   "source": [
    "x[0]-=2\n",
    "x"
   ]
  },
  {
   "cell_type": "markdown",
   "id": "71e60a88-2523-48bf-ab18-f817312fe798",
   "metadata": {},
   "source": [
    "# assignment operator------"
   ]
  },
  {
   "cell_type": "code",
   "execution_count": 7,
   "id": "fc2ffe8e-5be3-4ba2-9cc1-eb1305ffcefc",
   "metadata": {},
   "outputs": [
    {
     "data": {
      "text/plain": [
       "array([[10, 11, 12, 13],\n",
       "       [14, 15, 16, 17],\n",
       "       [18, 19, 20, 21],\n",
       "       [22, 23, 24, 25],\n",
       "       [26, 27, 28, 29]])"
      ]
     },
     "execution_count": 7,
     "metadata": {},
     "output_type": "execute_result"
    }
   ],
   "source": [
    "import numpy as np\n",
    "np.load(\"my_array.npy\")"
   ]
  },
  {
   "cell_type": "code",
   "execution_count": 44,
   "id": "2c6cf1d2-483e-4d68-83bb-ecd4c934d98b",
   "metadata": {},
   "outputs": [],
   "source": [
    "x=np.arange(10,30).reshape(4,5)\n",
    "y=np.arange(1,21).reshape(4,5)\n",
    "x-=y"
   ]
  },
  {
   "cell_type": "code",
   "execution_count": 18,
   "id": "bde5b99d-cae4-4906-9277-d55b73b0a024",
   "metadata": {},
   "outputs": [
    {
     "data": {
      "text/plain": [
       "array([[26, 26, 26, 26],\n",
       "       [26, 26, 26, 26],\n",
       "       [26, 26, 26, 26],\n",
       "       [26, 26, 26, 26],\n",
       "       [26, 26, 26, 26]])"
      ]
     },
     "execution_count": 18,
     "metadata": {},
     "output_type": "execute_result"
    }
   ],
   "source": [
    "x*=2\n",
    "x"
   ]
  },
  {
   "cell_type": "code",
   "execution_count": 24,
   "id": "3e4cb6b2-0a20-4fc3-aca6-f03caa8c87e0",
   "metadata": {},
   "outputs": [
    {
     "data": {
      "text/plain": [
       "array([[0, 0, 0],\n",
       "       [0, 0, 0]])"
      ]
     },
     "execution_count": 24,
     "metadata": {},
     "output_type": "execute_result"
    }
   ],
   "source": [
    "np.zeros((2,3),dtype=int)"
   ]
  },
  {
   "cell_type": "code",
   "execution_count": 26,
   "id": "043ac123-37fb-4aa4-a781-b4bd6eed6b97",
   "metadata": {},
   "outputs": [
    {
     "data": {
      "text/plain": [
       "array([[1, 1, 1],\n",
       "       [1, 1, 1]])"
      ]
     },
     "execution_count": 26,
     "metadata": {},
     "output_type": "execute_result"
    }
   ],
   "source": [
    "np.ones((2,3),dtype=int)"
   ]
  },
  {
   "cell_type": "code",
   "execution_count": 28,
   "id": "3ea1fabf-0e37-43d1-8850-9ed9dd2f1c12",
   "metadata": {},
   "outputs": [
    {
     "data": {
      "text/plain": [
       "array([[1., 0., 0., 0., 0.],\n",
       "       [0., 1., 0., 0., 0.],\n",
       "       [0., 0., 1., 0., 0.],\n",
       "       [0., 0., 0., 1., 0.],\n",
       "       [0., 0., 0., 0., 1.]])"
      ]
     },
     "execution_count": 28,
     "metadata": {},
     "output_type": "execute_result"
    }
   ],
   "source": [
    "np.eye(5)"
   ]
  },
  {
   "cell_type": "code",
   "execution_count": 30,
   "id": "d38a2813-cd6f-463a-bf55-5f495a307dd9",
   "metadata": {},
   "outputs": [
    {
     "data": {
      "text/plain": [
       "array([[1., 0., 0., 0.],\n",
       "       [0., 1., 0., 0.],\n",
       "       [0., 0., 1., 0.],\n",
       "       [0., 0., 0., 1.]])"
      ]
     },
     "execution_count": 30,
     "metadata": {},
     "output_type": "execute_result"
    }
   ],
   "source": [
    "np.identity(4)"
   ]
  },
  {
   "cell_type": "code",
   "execution_count": 73,
   "id": "19dfaa10-1e18-471a-908b-604cf1610896",
   "metadata": {},
   "outputs": [],
   "source": [
    "x=np.arange(10,30).reshape(4,5)\n",
    "y=np.arange(1,21).reshape(5,4)"
   ]
  },
  {
   "cell_type": "code",
   "execution_count": 67,
   "id": "0eb11b49-d509-4d28-b76f-66793cc50ec4",
   "metadata": {},
   "outputs": [
    {
     "name": "stdout",
     "output_type": "stream",
     "text": [
      "odd\n",
      "even\n",
      "odd\n",
      "even\n",
      "odd\n",
      "even\n",
      "odd\n",
      "even\n"
     ]
    }
   ],
   "source": [
    "for i in x:\n",
    "    if i%2==0:\n",
    "        print(\"even\")\n",
    "    else:\n",
    "        print(\"odd\")\n",
    "    np.array(i)"
   ]
  },
  {
   "cell_type": "code",
   "execution_count": 48,
   "id": "cead5dfe-8d01-4a67-b2eb-1d85da2f90fd",
   "metadata": {},
   "outputs": [
    {
     "data": {
      "text/plain": [
       "array([[ 580,  640,  700,  760],\n",
       "       [ 805,  890,  975, 1060],\n",
       "       [1030, 1140, 1250, 1360],\n",
       "       [1255, 1390, 1525, 1660]])"
      ]
     },
     "execution_count": 48,
     "metadata": {},
     "output_type": "execute_result"
    }
   ],
   "source": [
    "x @ y"
   ]
  },
  {
   "cell_type": "code",
   "execution_count": 52,
   "id": "f2395dc9-fa8d-40b7-a88e-76660e8c5173",
   "metadata": {},
   "outputs": [
    {
     "data": {
      "text/plain": [
       "[2, 4, 6, 8]"
      ]
     },
     "execution_count": 52,
     "metadata": {},
     "output_type": "execute_result"
    }
   ],
   "source": [
    "x=np.array([1,2,3,4,5,6,7,8])\n",
    "[i for i in x if i%2==0]"
   ]
  },
  {
   "cell_type": "code",
   "execution_count": 75,
   "id": "344e950b-01e4-4839-94bc-ef96faa39185",
   "metadata": {},
   "outputs": [
    {
     "data": {
      "text/plain": [
       "array([[10,  0, 12,  0, 14],\n",
       "       [ 0, 16,  0, 18,  0],\n",
       "       [20,  0, 22,  0, 24],\n",
       "       [ 0, 26,  0, 28,  0]])"
      ]
     },
     "execution_count": 75,
     "metadata": {},
     "output_type": "execute_result"
    }
   ],
   "source": [
    "np.where(x%2==0,x,0)"
   ]
  },
  {
   "cell_type": "code",
   "execution_count": null,
   "id": "32534278-d713-4bb8-9391-98fd82ead53c",
   "metadata": {},
   "outputs": [],
   "source": [
    "## higher dimension---stacking"
   ]
  },
  {
   "cell_type": "code",
   "execution_count": 79,
   "id": "d3d44294-04e2-4758-8c45-ac0439931dd2",
   "metadata": {},
   "outputs": [],
   "source": [
    "x=np.array([[[2,4],[4,5],[12,15]]])\n",
    "y=np.array([[[2,4],[4,5],[12,15]]])"
   ]
  },
  {
   "cell_type": "code",
   "execution_count": 89,
   "id": "f7636636-0356-481d-824d-a11b7e8d4812",
   "metadata": {},
   "outputs": [],
   "source": [
    "x=np.arange(2,12).reshape(5,2)\n",
    "y=np.random.randint(10,20,(5,2))"
   ]
  },
  {
   "cell_type": "code",
   "execution_count": 103,
   "id": "319b57af-cc3b-4d52-b136-21fcd3890d86",
   "metadata": {},
   "outputs": [
    {
     "data": {
      "text/plain": [
       "array([[[ 2, 19],\n",
       "        [ 3, 11]],\n",
       "\n",
       "       [[ 4, 12],\n",
       "        [ 5, 15]],\n",
       "\n",
       "       [[ 6, 11],\n",
       "        [ 7, 18]],\n",
       "\n",
       "       [[ 8, 11],\n",
       "        [ 9, 10]],\n",
       "\n",
       "       [[10, 17],\n",
       "        [11, 12]]])"
      ]
     },
     "execution_count": 103,
     "metadata": {},
     "output_type": "execute_result"
    }
   ],
   "source": [
    "np.stack([x,y],axis=2)"
   ]
  },
  {
   "cell_type": "code",
   "execution_count": 107,
   "id": "4d62e164-651a-4436-a552-2308239f334b",
   "metadata": {},
   "outputs": [
    {
     "data": {
      "text/plain": [
       "array([[ 2,  3, 19, 11],\n",
       "       [ 4,  5, 12, 15],\n",
       "       [ 6,  7, 11, 18],\n",
       "       [ 8,  9, 11, 10],\n",
       "       [10, 11, 17, 12]])"
      ]
     },
     "execution_count": 107,
     "metadata": {},
     "output_type": "execute_result"
    }
   ],
   "source": [
    "np.hstack([x,y])"
   ]
  },
  {
   "cell_type": "code",
   "execution_count": null,
   "id": "2c513162-f3fa-42ef-8e9a-39b036d45561",
   "metadata": {},
   "outputs": [],
   "source": []
  }
 ],
 "metadata": {
  "kernelspec": {
   "display_name": "Python 3 (ipykernel)",
   "language": "python",
   "name": "python3"
  },
  "language_info": {
   "codemirror_mode": {
    "name": "ipython",
    "version": 3
   },
   "file_extension": ".py",
   "mimetype": "text/x-python",
   "name": "python",
   "nbconvert_exporter": "python",
   "pygments_lexer": "ipython3",
   "version": "3.12.7"
  }
 },
 "nbformat": 4,
 "nbformat_minor": 5
}
