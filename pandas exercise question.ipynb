{
 "cells": [
  {
   "cell_type": "markdown",
   "metadata": {
    "id": "kic6oK53broE"
   },
   "source": [
    "<table align=\"left\" width=100%>\n",
    "    <tr>\n",
    "        <td width=\"20%\">\n",
    "            <img src=\"GL-2.png\">\n",
    "        </td>\n",
    "        <td>\n",
    "            <div align=\"center\">\n",
    "                <font color=\"#21618C\" size=8px>\n",
    "                    <b>Inclass - Lab<br> (Week 2)\n",
    "                    </b>\n",
    "                </font>\n",
    "            </div>\n",
    "        </td>\n",
    "    </tr>\n",
    "</table>"
   ]
  },
  {
   "cell_type": "markdown",
   "metadata": {
    "id": "oe1s0Kh3broG"
   },
   "source": [
    "## Table of Content\n",
    "1. **[Data Structures with Examples](#Data_Structures)**\n",
    "2. **[Create and Manipulate the DataFrames](#create_manipulate)**\n",
    "3. **[Sort](#sorting)**\n",
    "4. **[Rank](#ranking)**"
   ]
  },
  {
   "cell_type": "markdown",
   "metadata": {
    "id": "JlJ7Wtw-broG"
   },
   "source": [
    "### Let's begin with some hands-on practice exercises"
   ]
  },
  {
   "cell_type": "markdown",
   "metadata": {
    "id": "26XpOEYEbroH"
   },
   "source": [
    "<a id='Data_Structures'></a>\n",
    "## 1. Data Structures with Examples:"
   ]
  },
  {
   "cell_type": "markdown",
   "metadata": {
    "id": "Rj8q582cbroI"
   },
   "source": [
    "<table align=\"left\">\n",
    "    <tr>\n",
    "        <td width=\"6%\">\n",
    "            <img src=\"question_icon.png\">\n",
    "        </td>\n",
    "        <td>\n",
    "            <div align=\"left\", style=\"font-size:120%\">\n",
    "                <font color=\"#21618C\">\n",
    "                    <b>1. Write a program to create a dataframe from list of lists\n",
    "</b>\n",
    "                </font>\n",
    "            </div>\n",
    "        </td>\n",
    "    </tr>\n",
    "</table>"
   ]
  },
  {
   "cell_type": "markdown",
   "metadata": {
    "id": "PzHrJnNRbroJ"
   },
   "source": [
    "**Use the below nested list:**<br>\n",
    "\n",
    "        data = [['Joy', 21], ['Mia', 15], ['Sam', 14]]"
   ]
  },
  {
   "cell_type": "code",
   "execution_count": null,
   "metadata": {
    "id": "hLGI4F1VbroK"
   },
   "outputs": [],
   "source": []
  },
  {
   "cell_type": "markdown",
   "metadata": {
    "id": "GTblkct8broO"
   },
   "source": [
    "<table align=\"left\">\n",
    "    <tr>\n",
    "        <td width=\"6%\">\n",
    "            <img src=\"question_icon.png\">\n",
    "        </td>\n",
    "        <td>\n",
    "            <div align=\"left\", style=\"font-size:120%\">\n",
    "                <font color=\"#21618C\">\n",
    "                    <b>2. Extract the second word from the given string\n",
    "</b>\n",
    "                </font>\n",
    "            </div>\n",
    "        </td>\n",
    "    </tr>\n",
    "</table>"
   ]
  },
  {
   "cell_type": "markdown",
   "metadata": {
    "id": "wqAJ6qeKbroO"
   },
   "source": [
    "**Use the below string:**<br>\n",
    "    \n",
    "    sentence = 'Be confident and be yourself'"
   ]
  },
  {
   "cell_type": "code",
   "execution_count": null,
   "metadata": {},
   "outputs": [],
   "source": []
  },
  {
   "cell_type": "markdown",
   "metadata": {
    "id": "Es6zyYS5broR"
   },
   "source": [
    "<a id='create_manipulate'></a>\n",
    "## 2. Create and Manipulate the DataFrames:"
   ]
  },
  {
   "cell_type": "markdown",
   "metadata": {
    "id": "N45T_7y0broS"
   },
   "source": [
    "<table align=\"left\">\n",
    "    <tr>\n",
    "        <td width=\"6%\">\n",
    "            <img src=\"question_icon.png\">\n",
    "        </td>\n",
    "        <td>\n",
    "            <div align=\"left\", style=\"font-size:120%\">\n",
    "                <font color=\"#21618C\">\n",
    "                    <b>3. Split the 'Name' column into two separate columns as First_Name and Last_Name </b>\n",
    "                </font>\n",
    "            </div>\n",
    "        </td>\n",
    "    </tr>\n",
    "</table>"
   ]
  },
  {
   "cell_type": "markdown",
   "metadata": {
    "id": "cqJ5X7DrbroS"
   },
   "source": [
    "**Use the dataframe given below:**\n",
    "\n",
    "<table>\n",
    "<tr>\n",
    "<th>Name</th>\n",
    "<th>Salary</th>\n",
    "</tr>\n",
    "<tr>\n",
    "<td>Emma Larter</td>\n",
    "<td>3200</td>\n",
    "</tr>\n",
    "<tr>\n",
    "<td>Mia Junior</td>\n",
    "<td>4500</td>\n",
    "</tr>\n",
    "<tr>\n",
    "<td>Sophia Depp</td>\n",
    "<td>3600</td>\n",
    "</tr>\n",
    "<tr>\n",
    "<td>James Smith</td>\n",
    "<td>5596</td>\n",
    "</tr>\n",
    "   \n",
    "</table>"
   ]
  },
  {
   "cell_type": "code",
   "execution_count": null,
   "metadata": {
    "id": "Ug84aVrObroT"
   },
   "outputs": [],
   "source": []
  },
  {
   "cell_type": "code",
   "execution_count": null,
   "metadata": {},
   "outputs": [],
   "source": []
  },
  {
   "cell_type": "markdown",
   "metadata": {
    "id": "HR_gxOnCbroV"
   },
   "source": [
    "<table align=\"left\">\n",
    "    <tr>\n",
    "        <td width=\"6%\">\n",
    "            <img src=\"question_icon.png\">\n",
    "        </td>\n",
    "        <td>\n",
    "            <div align=\"left\", style=\"font-size:120%\">\n",
    "                <font color=\"#21618C\">\n",
    "                    <b>4. Select the rows from below dataframe where marks are less than 60 </b>\n",
    "                </font>\n",
    "            </div>\n",
    "        </td>\n",
    "    </tr>\n",
    "</table>"
   ]
  },
  {
   "cell_type": "markdown",
   "metadata": {
    "id": "psRI2T3TbroW"
   },
   "source": [
    "**Use the dataframe given below:**\n",
    "\n",
    "<table>\n",
    "<tr>\n",
    "<th>Name</th>\n",
    "<th>Marks</th>\n",
    "</tr>\n",
    "<tr>\n",
    "<td>John</td>\n",
    "<td>90</td>\n",
    "</tr>\n",
    "<tr>\n",
    "<td>Robert</td>\n",
    "<td>50</td>\n",
    "</tr>\n",
    "<tr>\n",
    "<td>Jonny</td>\n",
    "<td>89</td>\n",
    "</tr>\n",
    "<tr>\n",
    "<td>Mia</td>\n",
    "<td>55</td>\n",
    "</tr>\n",
    "   \n",
    "</table>"
   ]
  },
  {
   "cell_type": "code",
   "execution_count": null,
   "metadata": {},
   "outputs": [],
   "source": []
  },
  {
   "cell_type": "markdown",
   "metadata": {
    "id": "z35FqMrYbroZ"
   },
   "source": [
    "<table align=\"left\">\n",
    "    <tr>\n",
    "        <td width=\"6%\">\n",
    "            <img src=\"question_icon.png\">\n",
    "        </td>\n",
    "        <td>\n",
    "            <div align=\"left\", style=\"font-size:120%\">\n",
    "                <font color=\"#21618C\">\n",
    "                    <b>5. Write a program to select the rows where the sales are higher than 60000 for Mumbai </b>\n",
    "                </font>\n",
    "            </div>\n",
    "        </td>\n",
    "    </tr>\n",
    "</table>"
   ]
  },
  {
   "cell_type": "markdown",
   "metadata": {
    "id": "pEwm6Uj4brob"
   },
   "source": [
    "**Use the dataframe given below:**\n",
    "   \n",
    "<table>\n",
    "<tr>\n",
    "<th>Store</th>\n",
    "<th>Location</th>\n",
    "<th>Sales</th>\n",
    "</tr>\n",
    "<tr>\n",
    "<td>A</td>\n",
    "<td>Mumbai</td>\n",
    "<td>40000</td>\n",
    "</tr>\n",
    "<tr>\n",
    "<td>B</td>\n",
    "<td>Pune</td>\n",
    "<td>45000</td>\n",
    "</tr>\n",
    "<tr>\n",
    "<td>A</td>\n",
    "<td>Hyderabad</td>\n",
    "<td>50000</td>\n",
    "</tr>\n",
    "<tr>\n",
    "<td>C</td>\n",
    "<td>Mumbai</td>\n",
    "<td>90000</td>\n",
    "</tr>\n",
    "<tr>\n",
    "<td>D</td>\n",
    "<td>Pune</td>\n",
    "<td>89000</td>\n",
    "</tr>\n",
    "<tr>\n",
    "<td>A</td>\n",
    "<td>Delhi</td>\n",
    "<td>87000</td>\n",
    "</tr>\n",
    "<tr>\n",
    "<td>D</td>\n",
    "<td>Hyderabad</td>\n",
    "<td>85000</td>\n",
    "</tr>\n",
    "<tr>\n",
    "<td>A</td>\n",
    "<td>Pune</td>\n",
    "<td>78000</td>\n",
    "</tr>\n",
    "<tr>\n",
    "<td>C</td>\n",
    "<td>Mumbai</td>\n",
    "<td>89000</td>\n",
    "</tr>\n",
    "<tr>\n",
    "<td>B</td>\n",
    "<td>Pune</td>\n",
    "<td>70000</td>\n",
    "</tr>\n",
    "   \n",
    "</table>"
   ]
  },
  {
   "cell_type": "code",
   "execution_count": null,
   "metadata": {
    "id": "Z_-bcP7ibrob"
   },
   "outputs": [],
   "source": []
  },
  {
   "cell_type": "markdown",
   "metadata": {
    "id": "_UZzFsqcbroe"
   },
   "source": [
    "<table align=\"left\">\n",
    "    <tr>\n",
    "        <td width=\"6%\">\n",
    "            <img src=\"question_icon.png\">\n",
    "        </td>\n",
    "        <td>\n",
    "            <div align=\"left\", style=\"font-size:120%\">\n",
    "                <font color=\"#21618C\">\n",
    "                    <b>6. Write a program to select stores located in Hyderabad</b>\n",
    "                </font>\n",
    "            </div>\n",
    "        </td>\n",
    "    </tr>\n",
    "</table>"
   ]
  },
  {
   "cell_type": "markdown",
   "metadata": {
    "id": "xpPd6-yxbroe"
   },
   "source": [
    "**Use the dataframe given below:**\n",
    "   \n",
    "<table>\n",
    "<tr>\n",
    "<th>Store</th>\n",
    "<th>Location</th>\n",
    "<th>Sales</th>\n",
    "</tr>\n",
    "<tr>\n",
    "<td>A</td>\n",
    "<td>Mumbai</td>\n",
    "<td>40000</td>\n",
    "</tr>\n",
    "<tr>\n",
    "<td>B</td>\n",
    "<td>Pune</td>\n",
    "<td>45000</td>\n",
    "</tr>\n",
    "<tr>\n",
    "<td>A</td>\n",
    "<td>Hyderabad</td>\n",
    "<td>50000</td>\n",
    "</tr>\n",
    "<tr>\n",
    "<td>C</td>\n",
    "<td>Mumbai</td>\n",
    "<td>90000</td>\n",
    "</tr>\n",
    "<tr>\n",
    "<td>D</td>\n",
    "<td>Pune</td>\n",
    "<td>89000</td>\n",
    "</tr>\n",
    "<tr>\n",
    "<td>A</td>\n",
    "<td>Delhi</td>\n",
    "<td>87000</td>\n",
    "</tr>\n",
    "<tr>\n",
    "<td>D</td>\n",
    "<td>Hyderabad</td>\n",
    "<td>85000</td>\n",
    "</tr>\n",
    "<tr>\n",
    "<td>A</td>\n",
    "<td>Pune</td>\n",
    "<td>78000</td>\n",
    "</tr>\n",
    "<tr>\n",
    "<td>C</td>\n",
    "<td>Mumbai</td>\n",
    "<td>89000</td>\n",
    "</tr>\n",
    "<tr>\n",
    "<td>B</td>\n",
    "<td>Pune</td>\n",
    "<td>70000</td>\n",
    "</tr>\n",
    "   \n",
    "</table>"
   ]
  },
  {
   "cell_type": "code",
   "execution_count": null,
   "metadata": {},
   "outputs": [],
   "source": []
  },
  {
   "cell_type": "markdown",
   "metadata": {
    "id": "MkRQWQJMbroh"
   },
   "source": [
    "<table align=\"left\">\n",
    "    <tr>\n",
    "        <td width=\"6%\">\n",
    "            <img src=\"question_icon.png\">\n",
    "        </td>\n",
    "        <td>\n",
    "            <div align=\"left\", style=\"font-size:120%\">\n",
    "                <font color=\"#21618C\">\n",
    "                    <b>7. Write a program to replace the 'Store' column with the values A, B, C, and D with Store_A,  Store_B, Store_C and Store_D respectively </b>  \n",
    "                </font>\n",
    "            </div>\n",
    "        </td>\n",
    "    </tr>\n",
    "</table>"
   ]
  },
  {
   "cell_type": "markdown",
   "metadata": {
    "id": "NjNY0QDobroh"
   },
   "source": [
    "**Use the dataframe given below:**\n",
    "   \n",
    "<table>\n",
    "<tr>\n",
    "<th>Store</th>\n",
    "<th>Location</th>\n",
    "<th>Sales</th>\n",
    "</tr>\n",
    "<tr>\n",
    "<td>A</td>\n",
    "<td>Mumbai</td>\n",
    "<td>40000</td>\n",
    "</tr>\n",
    "<tr>\n",
    "<td>B</td>\n",
    "<td>Pune</td>\n",
    "<td>45000</td>\n",
    "</tr>\n",
    "<tr>\n",
    "<td>A</td>\n",
    "<td>Hyderabad</td>\n",
    "<td>50000</td>\n",
    "</tr>\n",
    "<tr>\n",
    "<td>C</td>\n",
    "<td>Mumbai</td>\n",
    "<td>90000</td>\n",
    "</tr>\n",
    "<tr>\n",
    "<td>D</td>\n",
    "<td>Pune</td>\n",
    "<td>89000</td>\n",
    "</tr>\n",
    "<tr>\n",
    "<td>A</td>\n",
    "<td>Delhi</td>\n",
    "<td>87000</td>\n",
    "</tr>\n",
    "<tr>\n",
    "<td>D</td>\n",
    "<td>Hyderabad</td>\n",
    "<td>85000</td>\n",
    "</tr>\n",
    "<tr>\n",
    "<td>A</td>\n",
    "<td>Pune</td>\n",
    "<td>78000</td>\n",
    "</tr>\n",
    "<tr>\n",
    "<td>C</td>\n",
    "<td>Mumbai</td>\n",
    "<td>89000</td>\n",
    "</tr>\n",
    "<tr>\n",
    "<td>B</td>\n",
    "<td>Pune</td>\n",
    "<td>70000</td>\n",
    "</tr>\n",
    "   \n",
    "</table>"
   ]
  },
  {
   "cell_type": "code",
   "execution_count": null,
   "metadata": {
    "id": "FcqGrhbobroi"
   },
   "outputs": [],
   "source": []
  },
  {
   "cell_type": "code",
   "execution_count": null,
   "metadata": {},
   "outputs": [],
   "source": []
  },
  {
   "cell_type": "markdown",
   "metadata": {
    "id": "A_FO5JqKbrok"
   },
   "source": [
    "<table align=\"left\">\n",
    "    <tr>\n",
    "        <td width=\"6%\">\n",
    "            <img src=\"question_icon.png\">\n",
    "        </td>\n",
    "        <td>\n",
    "            <div align=\"left\", style=\"font-size:120%\">\n",
    "                <font color=\"#21618C\">\n",
    "                    <b>8. Create a dataframe in pandas using the given list.\n",
    "</b>\n",
    "                </font>\n",
    "            </div>\n",
    "        </td>\n",
    "    </tr>\n",
    "</table>"
   ]
  },
  {
   "cell_type": "markdown",
   "metadata": {
    "id": "492OEIcHbrol"
   },
   "source": [
    "**Use the below list**\n",
    "\n",
    "        city = ['Delhi', 'Mumbai', 'Chennai', 'Kolkata']"
   ]
  },
  {
   "cell_type": "code",
   "execution_count": null,
   "metadata": {
    "id": "ujlQ0ABIbrom"
   },
   "outputs": [],
   "source": []
  },
  {
   "cell_type": "markdown",
   "metadata": {
    "id": "YaZVCuk0brop"
   },
   "source": [
    "<table align=\"left\">\n",
    "    <tr>\n",
    "        <td width=\"6%\">\n",
    "            <img src=\"question_icon.png\">\n",
    "        </td>\n",
    "        <td>\n",
    "            <div align=\"left\", style=\"font-size:120%\">\n",
    "                <font color=\"#21618C\">\n",
    "                    <b>9. Save a given dataframe to a csv file\n",
    "</b>\n",
    "                </font>\n",
    "            </div>\n",
    "        </td>\n",
    "    </tr>\n",
    "</table>"
   ]
  },
  {
   "cell_type": "markdown",
   "metadata": {
    "id": "zdG3-8djbroq"
   },
   "source": [
    "**Use the dataframe given below:**\n",
    "   \n",
    "<table>\n",
    "<tr>\n",
    "<th>Store</th>\n",
    "<th>Location</th>\n",
    "<th>Sales</th>\n",
    "</tr>\n",
    "<tr>\n",
    "<td>A</td>\n",
    "<td>Mumbai</td>\n",
    "<td>40000</td>\n",
    "</tr>\n",
    "<tr>\n",
    "<td>B</td>\n",
    "<td>Pune</td>\n",
    "<td>45000</td>\n",
    "</tr>\n",
    "<tr>\n",
    "<td>A</td>\n",
    "<td>Hyderabad</td>\n",
    "<td>50000</td>\n",
    "</tr>\n",
    "<tr>\n",
    "<td>C</td>\n",
    "<td>Mumbai</td>\n",
    "<td>90000</td>\n",
    "</tr>\n",
    "<tr>\n",
    "<td>D</td>\n",
    "<td>Pune</td>\n",
    "<td>89000</td>\n",
    "</tr>\n",
    "<tr>\n",
    "<td>A</td>\n",
    "<td>Delhi</td>\n",
    "<td>87000</td>\n",
    "</tr>\n",
    "<tr>\n",
    "<td>D</td>\n",
    "<td>Hyderabad</td>\n",
    "<td>85000</td>\n",
    "</tr>\n",
    "<tr>\n",
    "<td>A</td>\n",
    "<td>Pune</td>\n",
    "<td>78000</td>\n",
    "</tr>\n",
    "<tr>\n",
    "<td>C</td>\n",
    "<td>Mumbai</td>\n",
    "<td>89000</td>\n",
    "</tr>\n",
    "<tr>\n",
    "<td>B</td>\n",
    "<td>Pune</td>\n",
    "<td>70000</td>\n",
    "</tr>\n",
    "   \n",
    "</table>"
   ]
  },
  {
   "cell_type": "code",
   "execution_count": 14,
   "metadata": {
    "id": "LRIV0DMCbroq"
   },
   "outputs": [],
   "source": [
    " "
   ]
  },
  {
   "cell_type": "markdown",
   "metadata": {
    "id": "kzBS49kCbrot"
   },
   "source": [
    "<table align=\"left\">\n",
    "    <tr>\n",
    "        <td width=\"6%\">\n",
    "            <img src=\"question_icon.png\">\n",
    "        </td>\n",
    "        <td>\n",
    "            <div align=\"left\", style=\"font-size:120%\">\n",
    "                <font color=\"#21618C\">\n",
    "                    <b>10. Find the maximum sales for each store\n",
    "</b>\n",
    "                </font>\n",
    "            </div>\n",
    "        </td>\n",
    "    </tr>\n",
    "</table>"
   ]
  },
  {
   "cell_type": "markdown",
   "metadata": {
    "id": "6pTfSncBbrot"
   },
   "source": [
    "**Use the dataframe given below:**\n",
    "   \n",
    "<table>\n",
    "<tr>\n",
    "<th>Store</th>\n",
    "<th>Location</th>\n",
    "<th>Sales</th>\n",
    "</tr>\n",
    "<tr>\n",
    "<td>A</td>\n",
    "<td>Mumbai</td>\n",
    "<td>40000</td>\n",
    "</tr>\n",
    "<tr>\n",
    "<td>B</td>\n",
    "<td>Pune</td>\n",
    "<td>45000</td>\n",
    "</tr>\n",
    "<tr>\n",
    "<td>A</td>\n",
    "<td>Hyderabad</td>\n",
    "<td>50000</td>\n",
    "</tr>\n",
    "<tr>\n",
    "<td>C</td>\n",
    "<td>Mumbai</td>\n",
    "<td>90000</td>\n",
    "</tr>\n",
    "<tr>\n",
    "<td>D</td>\n",
    "<td>Pune</td>\n",
    "<td>89000</td>\n",
    "</tr>\n",
    "<tr>\n",
    "<td>A</td>\n",
    "<td>Delhi</td>\n",
    "<td>87000</td>\n",
    "</tr>\n",
    "<tr>\n",
    "<td>D</td>\n",
    "<td>Hyderabad</td>\n",
    "<td>85000</td>\n",
    "</tr>\n",
    "<tr>\n",
    "<td>A</td>\n",
    "<td>Pune</td>\n",
    "<td>78000</td>\n",
    "</tr>\n",
    "<tr>\n",
    "<td>C</td>\n",
    "<td>Mumbai</td>\n",
    "<td>89000</td>\n",
    "</tr>\n",
    "<tr>\n",
    "<td>B</td>\n",
    "<td>Pune</td>\n",
    "<td>70000</td>\n",
    "</tr>\n",
    "   \n",
    "</table>"
   ]
  },
  {
   "cell_type": "code",
   "execution_count": null,
   "metadata": {},
   "outputs": [],
   "source": []
  },
  {
   "cell_type": "markdown",
   "metadata": {
    "id": "-AeYRdcBbrow"
   },
   "source": [
    "<table align=\"left\">\n",
    "    <tr>\n",
    "        <td width=\"6%\">\n",
    "            <img src=\"question_icon.png\">\n",
    "        </td>\n",
    "        <td>\n",
    "            <div align=\"left\", style=\"font-size:120%\">\n",
    "                <font color=\"#21618C\">\n",
    "                    <b>11. Write a program to select all columns, except the 'Location' from the given dataframe\n",
    "</b>\n",
    "                </font>\n",
    "            </div>\n",
    "        </td>\n",
    "    </tr>\n",
    "</table>"
   ]
  },
  {
   "cell_type": "markdown",
   "metadata": {
    "id": "FhMe-BOlbrow"
   },
   "source": [
    "**Use the dataframe given below:**\n",
    "   \n",
    "<table>\n",
    "<tr>\n",
    "<th>Store</th>\n",
    "<th>Location</th>\n",
    "<th>Sales</th>\n",
    "</tr>\n",
    "<tr>\n",
    "<td>A</td>\n",
    "<td>Mumbai</td>\n",
    "<td>40000</td>\n",
    "</tr>\n",
    "<tr>\n",
    "<td>B</td>\n",
    "<td>Pune</td>\n",
    "<td>45000</td>\n",
    "</tr>\n",
    "<tr>\n",
    "<td>A</td>\n",
    "<td>Hyderabad</td>\n",
    "<td>50000</td>\n",
    "</tr>\n",
    "<tr>\n",
    "<td>C</td>\n",
    "<td>Mumbai</td>\n",
    "<td>90000</td>\n",
    "</tr>\n",
    "<tr>\n",
    "<td>D</td>\n",
    "<td>Pune</td>\n",
    "<td>89000</td>\n",
    "</tr>\n",
    "<tr>\n",
    "<td>A</td>\n",
    "<td>Delhi</td>\n",
    "<td>87000</td>\n",
    "</tr>\n",
    "<tr>\n",
    "<td>D</td>\n",
    "<td>Hyderabad</td>\n",
    "<td>85000</td>\n",
    "</tr>\n",
    "<tr>\n",
    "<td>A</td>\n",
    "<td>Pune</td>\n",
    "<td>78000</td>\n",
    "</tr>\n",
    "<tr>\n",
    "<td>C</td>\n",
    "<td>Mumbai</td>\n",
    "<td>89000</td>\n",
    "</tr>\n",
    "<tr>\n",
    "<td>B</td>\n",
    "<td>Pune</td>\n",
    "<td>70000</td>\n",
    "</tr>\n",
    "   \n",
    "</table>"
   ]
  },
  {
   "cell_type": "code",
   "execution_count": null,
   "metadata": {
    "id": "VZwFNyNmbrow"
   },
   "outputs": [],
   "source": []
  },
  {
   "cell_type": "markdown",
   "metadata": {
    "id": "jdPQGGNbbroy"
   },
   "source": [
    "<table align=\"left\">\n",
    "    <tr>\n",
    "        <td width=\"6%\">\n",
    "            <img src=\"question_icon.png\">\n",
    "        </td>\n",
    "        <td>\n",
    "            <div align=\"left\", style=\"font-size:120%\">\n",
    "                <font color=\"#21618C\">\n",
    "                    <b>12. Write a program to insert a given column at the second position in a dataframe\n",
    "</b>\n",
    "                </font>\n",
    "            </div>\n",
    "        </td>\n",
    "    </tr>\n",
    "</table>"
   ]
  },
  {
   "cell_type": "markdown",
   "metadata": {
    "id": "eTt8takEbroz"
   },
   "source": [
    "**Use the dataframe given below:**\n",
    "\n",
    "<table>\n",
    "<tr>\n",
    "<th>Name</th>\n",
    "<th>Age</th>\n",
    "</tr>\n",
    "<tr>\n",
    "<td>Emma Larter</td>\n",
    "<td>34</td>\n",
    "</tr>\n",
    "<tr>\n",
    "<td>Mia Junior</td>\n",
    "<td>59</td>\n",
    "</tr>\n",
    "<tr>\n",
    "<td>Sophia Depp</td>\n",
    "<td>32</td>\n",
    "</tr>\n",
    "<tr>\n",
    "<td>James Smith</td>\n",
    "<td>40</td>\n",
    "</tr>\n",
    "   \n",
    "</table>\n",
    "\n",
    "**Add the variable 'Salary' as second column**<br>\n",
    "            \n",
    "            Salary = [35000, 24000, 55000, 40000]"
   ]
  },
  {
   "cell_type": "code",
   "execution_count": null,
   "metadata": {
    "id": "SkFzhAaRbroz"
   },
   "outputs": [],
   "source": []
  },
  {
   "cell_type": "code",
   "execution_count": null,
   "metadata": {},
   "outputs": [],
   "source": []
  },
  {
   "cell_type": "markdown",
   "metadata": {
    "id": "u57xUd5cbro1"
   },
   "source": [
    "<table align=\"left\">\n",
    "    <tr>\n",
    "        <td width=\"6%\">\n",
    "            <img src=\"question_icon.png\">\n",
    "        </td>\n",
    "        <td>\n",
    "            <div align=\"left\", style=\"font-size:120%\">\n",
    "                <font color=\"#21618C\">\n",
    "                    <b>13. Write a program to get the third observation of the given dataframe\n",
    "</b>\n",
    "                </font>\n",
    "            </div>\n",
    "        </td>\n",
    "    </tr>\n",
    "</table>"
   ]
  },
  {
   "cell_type": "markdown",
   "metadata": {
    "id": "q-SX6ARYbro2"
   },
   "source": [
    "**Use the dataframe given below:**\n",
    "\n",
    "<table>\n",
    "<tr>\n",
    "<th>Name</th>\n",
    "<th>Age</th>\n",
    "</tr>\n",
    "<tr>\n",
    "<td>Emma Larter</td>\n",
    "<td>34</td>\n",
    "</tr>\n",
    "<tr>\n",
    "<td>Mia Junior</td>\n",
    "<td>59</td>\n",
    "</tr>\n",
    "<tr>\n",
    "<td>Sophia Depp</td>\n",
    "<td>32</td>\n",
    "</tr>\n",
    "<tr>\n",
    "<td>James Smith</td>\n",
    "<td>40</td>\n",
    "</tr>\n",
    "</table>    "
   ]
  },
  {
   "cell_type": "code",
   "execution_count": null,
   "metadata": {
    "id": "mbhm0alkbro2"
   },
   "outputs": [],
   "source": []
  },
  {
   "cell_type": "code",
   "execution_count": null,
   "metadata": {},
   "outputs": [],
   "source": []
  },
  {
   "cell_type": "markdown",
   "metadata": {
    "id": "3BSI3I2Bbro4"
   },
   "source": [
    "<table align=\"left\">\n",
    "    <tr>\n",
    "        <td width=\"6%\">\n",
    "            <img src=\"question_icon.png\">\n",
    "        </td>\n",
    "        <td>\n",
    "            <div align=\"left\", style=\"font-size:120%\">\n",
    "                <font color=\"#21618C\">\n",
    "                    <b>14. Write a program to create a dataframe from the provided lists</b>\n",
    "                </font>\n",
    "            </div>\n",
    "        </td>\n",
    "    </tr>\n",
    "</table>"
   ]
  },
  {
   "cell_type": "markdown",
   "metadata": {
    "id": "6sJVU9BKbro5"
   },
   "source": [
    "**Use the following lists to create your arrays:**\n",
    "        \n",
    "            columns = [\"Science\", \"Maths\", \"English\"]\n",
    "            \n",
    "            marks = [[55, 78, 88], [93, 63, 83],[94, 74, 64]]\n",
    "            \n",
    "**Hint:** Convert the list marks into an array           "
   ]
  },
  {
   "cell_type": "code",
   "execution_count": null,
   "metadata": {
    "id": "i43LDErebro5"
   },
   "outputs": [],
   "source": []
  },
  {
   "cell_type": "code",
   "execution_count": null,
   "metadata": {},
   "outputs": [],
   "source": []
  },
  {
   "cell_type": "markdown",
   "metadata": {
    "id": "lT3ns2Anbro8"
   },
   "source": [
    "<table align=\"left\">\n",
    "    <tr>\n",
    "        <td width=\"6%\">\n",
    "            <img src=\"question_icon.png\">\n",
    "        </td>\n",
    "        <td>\n",
    "            <div align=\"left\", style=\"font-size:120%\">\n",
    "                <font color=\"#21618C\">\n",
    "                    <b>15. Write a program to count total sales per store </b>\n",
    "                </font>\n",
    "            </div>\n",
    "        </td>\n",
    "    </tr>\n",
    "</table>"
   ]
  },
  {
   "cell_type": "markdown",
   "metadata": {
    "id": "JLRKaQRMbro8"
   },
   "source": [
    "**Use the dataframe given below:**\n",
    "   \n",
    "<table>\n",
    "<tr>\n",
    "<th>Store</th>\n",
    "<th>Location</th>\n",
    "<th>Sales</th>\n",
    "</tr>\n",
    "<tr>\n",
    "<td>A</td>\n",
    "<td>Mumbai</td>\n",
    "<td>40000</td>\n",
    "</tr>\n",
    "<tr>\n",
    "<td>B</td>\n",
    "<td>Pune</td>\n",
    "<td>45000</td>\n",
    "</tr>\n",
    "<tr>\n",
    "<td>A</td>\n",
    "<td>Hyderabad</td>\n",
    "<td>50000</td>\n",
    "</tr>\n",
    "<tr>\n",
    "<td>C</td>\n",
    "<td>Mumbai</td>\n",
    "<td>90000</td>\n",
    "</tr>\n",
    "<tr>\n",
    "<td>D</td>\n",
    "<td>Pune</td>\n",
    "<td>89000</td>\n",
    "</tr>\n",
    "<tr>\n",
    "<td>A</td>\n",
    "<td>Delhi</td>\n",
    "<td>87000</td>\n",
    "</tr>\n",
    "<tr>\n",
    "<td>D</td>\n",
    "<td>Hyderabad</td>\n",
    "<td>85000</td>\n",
    "</tr>\n",
    "<tr>\n",
    "<td>A</td>\n",
    "<td>Pune</td>\n",
    "<td>78000</td>\n",
    "</tr>\n",
    "<tr>\n",
    "<td>C</td>\n",
    "<td>Mumbai</td>\n",
    "<td>89000</td>\n",
    "</tr>\n",
    "<tr>\n",
    "<td>B</td>\n",
    "<td>Pune</td>\n",
    "<td>70000</td>\n",
    "</tr>\n",
    "   \n",
    "</table>"
   ]
  },
  {
   "cell_type": "code",
   "execution_count": null,
   "metadata": {
    "id": "-QrO49uXbro9"
   },
   "outputs": [],
   "source": []
  },
  {
   "cell_type": "markdown",
   "metadata": {
    "id": "J4ZkF6fCbro_"
   },
   "source": [
    "<table align=\"left\">\n",
    "    <tr>\n",
    "        <td width=\"6%\">\n",
    "            <img src=\"question_icon.png\">\n",
    "        </td>\n",
    "        <td>\n",
    "            <div align=\"left\", style=\"font-size:120%\">\n",
    "                <font color=\"#21618C\">\n",
    "                    <b>16. Write a program to count the top five commonly used words in a list\n",
    "</b>\n",
    "                </font>\n",
    "            </div>\n",
    "        </td>\n",
    "    </tr>\n",
    "</table>"
   ]
  },
  {
   "cell_type": "markdown",
   "metadata": {
    "id": "Xa5QdIwZbro_"
   },
   "source": [
    "**Use the below list:**<br>\n",
    "\n",
    "            words_list = ['words', 'will', 'where', 'shall', 'we', 'will', 'shall', 'we', 'words', 'where', 'shall',\n",
    "                        'will', 'there', 'wow', 'should', 'shall', 'we', 'where', 'should', 'where', 'will', \n",
    "                        'there', 'now', 'where', 'we', 'will', 'where', 'should', 'will', 'where']"
   ]
  },
  {
   "cell_type": "code",
   "execution_count": null,
   "metadata": {
    "id": "sWG1rZKjbro_"
   },
   "outputs": [],
   "source": []
  },
  {
   "cell_type": "markdown",
   "metadata": {
    "id": "MczOZRuhbrpB"
   },
   "source": [
    "<a id='sorting'></a>\n",
    "## 3. Sort"
   ]
  },
  {
   "cell_type": "markdown",
   "metadata": {
    "id": "5t-wNWrlbrpC"
   },
   "source": [
    "<table align=\"left\">\n",
    "    <tr>\n",
    "        <td width=\"6%\">\n",
    "            <img src=\"question_icon.png\">\n",
    "        </td>\n",
    "        <td>\n",
    "            <div align=\"left\", style=\"font-size:120%\">\n",
    "                <font color=\"#21618C\">\n",
    "                    <b>17. Write a program to sort the dataframe by 'Sales' in ascending order\n",
    "</b>\n",
    "                </font>\n",
    "            </div>\n",
    "        </td>\n",
    "    </tr>\n",
    "</table>"
   ]
  },
  {
   "cell_type": "markdown",
   "metadata": {
    "id": "PKqI6PuFbrpC"
   },
   "source": [
    "**Use the dataframe given below:**\n",
    "   \n",
    "<table>\n",
    "<tr>\n",
    "<th>Store</th>\n",
    "<th>Location</th>\n",
    "<th>Sales</th>\n",
    "</tr>\n",
    "<tr>\n",
    "<td>A</td>\n",
    "<td>Mumbai</td>\n",
    "<td>40000</td>\n",
    "</tr>\n",
    "<tr>\n",
    "<td>B</td>\n",
    "<td>Pune</td>\n",
    "<td>45000</td>\n",
    "</tr>\n",
    "<tr>\n",
    "<td>A</td>\n",
    "<td>Hyderabad</td>\n",
    "<td>50000</td>\n",
    "</tr>\n",
    "<tr>\n",
    "<td>C</td>\n",
    "<td>Mumbai</td>\n",
    "<td>90000</td>\n",
    "</tr>\n",
    "<tr>\n",
    "<td>D</td>\n",
    "<td>Pune</td>\n",
    "<td>89000</td>\n",
    "</tr>\n",
    "<tr>\n",
    "<td>A</td>\n",
    "<td>Delhi</td>\n",
    "<td>87000</td>\n",
    "</tr>\n",
    "<tr>\n",
    "<td>D</td>\n",
    "<td>Hyderabad</td>\n",
    "<td>85000</td>\n",
    "</tr>\n",
    "<tr>\n",
    "<td>A</td>\n",
    "<td>Pune</td>\n",
    "<td>78000</td>\n",
    "</tr>\n",
    "<tr>\n",
    "<td>C</td>\n",
    "<td>Mumbai</td>\n",
    "<td>89000</td>\n",
    "</tr>\n",
    "<tr>\n",
    "<td>B</td>\n",
    "<td>Pune</td>\n",
    "<td>70000</td>\n",
    "</tr>\n",
    "   \n",
    "</table>"
   ]
  },
  {
   "cell_type": "code",
   "execution_count": null,
   "metadata": {
    "id": "EDDUeI_ebrpD"
   },
   "outputs": [],
   "source": []
  },
  {
   "cell_type": "markdown",
   "metadata": {
    "id": "7ti1ghjLbrpG"
   },
   "source": [
    "<table align=\"left\">\n",
    "    <tr>\n",
    "        <td width=\"6%\">\n",
    "            <img src=\"question_icon.png\">\n",
    "        </td>\n",
    "        <td>\n",
    "            <div align=\"left\", style=\"font-size:120%\">\n",
    "                <font color=\"#21618C\">\n",
    "                    <b>18. Write a program to sort the dataframe by 'Store' in ascending order and by 'Sales' in descending order simultaneously\n",
    "</b>\n",
    "                </font>\n",
    "            </div>\n",
    "        </td>\n",
    "    </tr>\n",
    "</table>"
   ]
  },
  {
   "cell_type": "markdown",
   "metadata": {
    "id": "cGyakcEdbrpG"
   },
   "source": [
    "**Use the dataframe given below:**\n",
    "   \n",
    "<table>\n",
    "<tr>\n",
    "<th>Store</th>\n",
    "<th>Location</th>\n",
    "<th>Sales</th>\n",
    "</tr>\n",
    "<tr>\n",
    "<td>A</td>\n",
    "<td>Mumbai</td>\n",
    "<td>40000</td>\n",
    "</tr>\n",
    "<tr>\n",
    "<td>B</td>\n",
    "<td>Pune</td>\n",
    "<td>45000</td>\n",
    "</tr>\n",
    "<tr>\n",
    "<td>A</td>\n",
    "<td>Hyderabad</td>\n",
    "<td>50000</td>\n",
    "</tr>\n",
    "<tr>\n",
    "<td>C</td>\n",
    "<td>Mumbai</td>\n",
    "<td>90000</td>\n",
    "</tr>\n",
    "<tr>\n",
    "<td>D</td>\n",
    "<td>Pune</td>\n",
    "<td>89000</td>\n",
    "</tr>\n",
    "<tr>\n",
    "<td>A</td>\n",
    "<td>Delhi</td>\n",
    "<td>87000</td>\n",
    "</tr>\n",
    "<tr>\n",
    "<td>D</td>\n",
    "<td>Hyderabad</td>\n",
    "<td>85000</td>\n",
    "</tr>\n",
    "<tr>\n",
    "<td>A</td>\n",
    "<td>Pune</td>\n",
    "<td>78000</td>\n",
    "</tr>\n",
    "<tr>\n",
    "<td>C</td>\n",
    "<td>Mumbai</td>\n",
    "<td>89000</td>\n",
    "</tr>\n",
    "<tr>\n",
    "<td>B</td>\n",
    "<td>Pune</td>\n",
    "<td>70000</td>\n",
    "</tr>\n",
    "   \n",
    "</table>"
   ]
  },
  {
   "cell_type": "code",
   "execution_count": null,
   "metadata": {
    "id": "tdCkIYaXbrpG"
   },
   "outputs": [],
   "source": []
  },
  {
   "cell_type": "markdown",
   "metadata": {
    "id": "6ISK8C4nbrpI"
   },
   "source": [
    "<a id='ranking'></a>\n",
    "## 4. Rank"
   ]
  },
  {
   "cell_type": "markdown",
   "metadata": {
    "id": "Vk0X5xxqbrpJ"
   },
   "source": [
    "<table align=\"left\">\n",
    "    <tr>\n",
    "        <td width=\"6%\">\n",
    "            <img src=\"question_icon.png\">\n",
    "        </td>\n",
    "        <td>\n",
    "            <div align=\"left\", style=\"font-size:120%\">\n",
    "                <font color=\"#21618C\">\n",
    "                    <b>19. Create a column 'Rank_sales' which contains the rank of each store based on sales of the product in ascending order\n",
    "</b>\n",
    "                </font>\n",
    "            </div>\n",
    "        </td>\n",
    "    </tr>\n",
    "</table>"
   ]
  },
  {
   "cell_type": "markdown",
   "metadata": {
    "id": "7O5czmbmbrpJ"
   },
   "source": [
    "**Use the dataframe given below:**\n",
    "   \n",
    "<table>\n",
    "<tr>\n",
    "<th>Store</th>\n",
    "<th>Location</th>\n",
    "<th>Sales</th>\n",
    "</tr>\n",
    "<tr>\n",
    "<td>A</td>\n",
    "<td>Mumbai</td>\n",
    "<td>40000</td>\n",
    "</tr>\n",
    "<tr>\n",
    "<td>B</td>\n",
    "<td>Pune</td>\n",
    "<td>45000</td>\n",
    "</tr>\n",
    "<tr>\n",
    "<td>A</td>\n",
    "<td>Hyderabad</td>\n",
    "<td>50000</td>\n",
    "</tr>\n",
    "<tr>\n",
    "<td>C</td>\n",
    "<td>Mumbai</td>\n",
    "<td>90000</td>\n",
    "</tr>\n",
    "<tr>\n",
    "<td>D</td>\n",
    "<td>Pune</td>\n",
    "<td>89000</td>\n",
    "</tr>\n",
    "<tr>\n",
    "<td>A</td>\n",
    "<td>Delhi</td>\n",
    "<td>87000</td>\n",
    "</tr>\n",
    "<tr>\n",
    "<td>D</td>\n",
    "<td>Hyderabad</td>\n",
    "<td>85000</td>\n",
    "</tr>\n",
    "<tr>\n",
    "<td>A</td>\n",
    "<td>Pune</td>\n",
    "<td>78000</td>\n",
    "</tr>\n",
    "<tr>\n",
    "<td>C</td>\n",
    "<td>Mumbai</td>\n",
    "<td>89000</td>\n",
    "</tr>\n",
    "<tr>\n",
    "<td>B</td>\n",
    "<td>Pune</td>\n",
    "<td>70000</td>\n",
    "</tr>\n",
    "   \n",
    "</table>"
   ]
  },
  {
   "cell_type": "code",
   "execution_count": null,
   "metadata": {
    "id": "8Crt7wH6brpJ"
   },
   "outputs": [],
   "source": []
  },
  {
   "cell_type": "code",
   "execution_count": null,
   "metadata": {},
   "outputs": [],
   "source": []
  }
 ],
 "metadata": {
  "colab": {
   "collapsed_sections": [
    "MczOZRuhbrpB",
    "6ISK8C4nbrpI"
   ],
   "name": "NPV - In-Class - Lab Exercise (Week2)  -  Questions.ipynb",
   "provenance": []
  },
  "kernelspec": {
   "display_name": "Python 3 (ipykernel)",
   "language": "python",
   "name": "python3"
  },
  "language_info": {
   "codemirror_mode": {
    "name": "ipython",
    "version": 3
   },
   "file_extension": ".py",
   "mimetype": "text/x-python",
   "name": "python",
   "nbconvert_exporter": "python",
   "pygments_lexer": "ipython3",
   "version": "3.12.7"
  }
 },
 "nbformat": 4,
 "nbformat_minor": 4
}
